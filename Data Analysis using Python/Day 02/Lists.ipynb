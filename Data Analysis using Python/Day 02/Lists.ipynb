{
  "nbformat": 4,
  "nbformat_minor": 0,
  "metadata": {
    "colab": {
      "provenance": []
    },
    "kernelspec": {
      "name": "python3",
      "display_name": "Python 3"
    },
    "language_info": {
      "name": "python"
    }
  },
  "cells": [
    {
      "cell_type": "code",
      "execution_count": null,
      "metadata": {
        "colab": {
          "base_uri": "https://localhost:8080/"
        },
        "id": "yeLtIjWCwci9",
        "outputId": "db490eeb-41b4-45ee-942e-a99443c794a1"
      },
      "outputs": [
        {
          "output_type": "stream",
          "name": "stdout",
          "text": [
            "[2, 4, 6, 8, 10, 12, 14, 16, 18, 20, 22, 24, 26, 28, 30, 32, 34, 36, 38, 40, 42, 44, 46, 48, 50, 52, 54, 56, 58, 60, 62, 64, 66, 68, 70, 72, 74, 76, 78, 80, 82, 84, 86, 88, 90, 92, 94, 96, 98]\n"
          ]
        }
      ],
      "source": [
        "list_1 = []\n",
        "for i in range(1,100):\n",
        "  if(i%2==0):\n",
        "    list_1.append(i)\n",
        "print(list_1)"
      ]
    },
    {
      "cell_type": "code",
      "source": [
        "list_2 = [1,2,3,4,5]\n",
        "list_2[3] = 8\n",
        "print(list_2)"
      ],
      "metadata": {
        "colab": {
          "base_uri": "https://localhost:8080/"
        },
        "id": "jFO37JBu1IOX",
        "outputId": "4ce240c2-38b7-417d-f793-c15aec380c5f"
      },
      "execution_count": null,
      "outputs": [
        {
          "output_type": "stream",
          "name": "stdout",
          "text": [
            "[1, 2, 3, 8, 5]\n"
          ]
        }
      ]
    },
    {
      "cell_type": "code",
      "source": [
        "print(sum(list_1))"
      ],
      "metadata": {
        "colab": {
          "base_uri": "https://localhost:8080/"
        },
        "id": "yGt4MMRV2EAL",
        "outputId": "40c4596c-6d2d-459a-88b9-d446187135bf"
      },
      "execution_count": null,
      "outputs": [
        {
          "output_type": "stream",
          "name": "stdout",
          "text": [
            "2450\n"
          ]
        }
      ]
    },
    {
      "cell_type": "code",
      "source": [
        "sum_1 = 0\n",
        "for i in list_1:\n",
        "  sum_1 = sum_1+i\n",
        "print(sum_1)"
      ],
      "metadata": {
        "colab": {
          "base_uri": "https://localhost:8080/"
        },
        "id": "ur7R6V9R2ppw",
        "outputId": "70a29098-558e-4974-bec1-d0c099508711"
      },
      "execution_count": null,
      "outputs": [
        {
          "output_type": "stream",
          "name": "stdout",
          "text": [
            "2450\n"
          ]
        }
      ]
    },
    {
      "cell_type": "code",
      "source": [
        "s = 0\n",
        "for i in range(0,49,2):\n",
        "  s = s+list_1[i]\n",
        "print(s)"
      ],
      "metadata": {
        "colab": {
          "base_uri": "https://localhost:8080/"
        },
        "id": "n3HERCuq3ITB",
        "outputId": "63455449-c26b-4155-faab-dfbd492171af"
      },
      "execution_count": null,
      "outputs": [
        {
          "output_type": "stream",
          "name": "stdout",
          "text": [
            "1250\n"
          ]
        }
      ]
    },
    {
      "cell_type": "code",
      "source": [
        "s1 = 0\n",
        "for i in range(1,49,2):\n",
        "  s1 = s1+list_1[i]\n",
        "print(s1)"
      ],
      "metadata": {
        "colab": {
          "base_uri": "https://localhost:8080/"
        },
        "id": "leCWx7pe5qDm",
        "outputId": "5f6b0445-6f15-4c03-c25f-2ee243177811"
      },
      "execution_count": null,
      "outputs": [
        {
          "output_type": "stream",
          "name": "stdout",
          "text": [
            "1200\n"
          ]
        }
      ]
    },
    {
      "cell_type": "code",
      "source": [
        "s2 = 0\n",
        "for i in range(len(list_1)):\n",
        "  if i%2==0:\n",
        "    s2 = s2+list_1[i]\n",
        "print(s2)"
      ],
      "metadata": {
        "colab": {
          "base_uri": "https://localhost:8080/"
        },
        "id": "fiQiVUYE57zm",
        "outputId": "044a631f-55d1-454c-f484-e3333cec2154"
      },
      "execution_count": null,
      "outputs": [
        {
          "output_type": "stream",
          "name": "stdout",
          "text": [
            "1250\n"
          ]
        }
      ]
    },
    {
      "cell_type": "code",
      "source": [
        "s3 = 0\n",
        "for i in range(len(list_1)):\n",
        "  if i%2!=0:\n",
        "    s3 = s3+list_1[i]\n",
        "print(s3)"
      ],
      "metadata": {
        "colab": {
          "base_uri": "https://localhost:8080/"
        },
        "id": "nYTe4uXk6o0c",
        "outputId": "04c814a9-a373-4f00-fea9-6fbdec01a172"
      },
      "execution_count": null,
      "outputs": [
        {
          "output_type": "stream",
          "name": "stdout",
          "text": [
            "1200\n"
          ]
        }
      ]
    },
    {
      "cell_type": "code",
      "source": [
        "s2-s3"
      ],
      "metadata": {
        "colab": {
          "base_uri": "https://localhost:8080/"
        },
        "id": "R1uSN-9-7Aez",
        "outputId": "a29d14d8-3496-44e6-d83d-35108f8222b6"
      },
      "execution_count": null,
      "outputs": [
        {
          "output_type": "execute_result",
          "data": {
            "text/plain": [
              "50"
            ]
          },
          "metadata": {},
          "execution_count": 24
        }
      ]
    },
    {
      "cell_type": "code",
      "source": [
        "n = int(input('enter a number: '))\n",
        "sum_n = 0\n",
        "for i in range(0,n+1):\n",
        "  sum_n = sum_n+i\n",
        "print(sum_n)"
      ],
      "metadata": {
        "colab": {
          "base_uri": "https://localhost:8080/"
        },
        "id": "q3qRmptr7YDH",
        "outputId": "75a92108-9d5b-4329-b4cb-3efe78e017cb"
      },
      "execution_count": null,
      "outputs": [
        {
          "output_type": "stream",
          "name": "stdout",
          "text": [
            "enter a number: 1287782231\n",
            "829191537883559796\n"
          ]
        }
      ]
    },
    {
      "cell_type": "code",
      "source": [
        "n = int(input('enter a number: '))\n",
        "if n%2 != 0:\n",
        "  print(n * ((n//2) + 1))\n",
        "else:\n",
        "   print(n * ((n//2) + .5))"
      ],
      "metadata": {
        "colab": {
          "base_uri": "https://localhost:8080/"
        },
        "id": "wWs166PN86iP",
        "outputId": "42e65040-9ab8-4123-d051-7b5f88387444"
      },
      "execution_count": null,
      "outputs": [
        {
          "output_type": "stream",
          "name": "stdout",
          "text": [
            "enter a number: 10\n",
            "55.0\n"
          ]
        }
      ]
    },
    {
      "cell_type": "code",
      "source": [
        " n1 = 6\n",
        " print(n1*(n1+1)//2)"
      ],
      "metadata": {
        "colab": {
          "base_uri": "https://localhost:8080/"
        },
        "id": "PC0bJtpuB-BL",
        "outputId": "cc3b0135-48a1-423b-ba75-98db2f126bbc"
      },
      "execution_count": null,
      "outputs": [
        {
          "output_type": "stream",
          "name": "stdout",
          "text": [
            "21\n"
          ]
        }
      ]
    },
    {
      "cell_type": "code",
      "source": [],
      "metadata": {
        "id": "S6hZLwlICpcZ"
      },
      "execution_count": null,
      "outputs": []
    }
  ]
}
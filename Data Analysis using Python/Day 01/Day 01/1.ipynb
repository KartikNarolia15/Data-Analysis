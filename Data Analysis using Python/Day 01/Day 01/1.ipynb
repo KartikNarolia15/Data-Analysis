{
  "nbformat": 4,
  "nbformat_minor": 0,
  "metadata": {
    "colab": {
      "provenance": []
    },
    "kernelspec": {
      "name": "python3",
      "display_name": "Python 3"
    },
    "language_info": {
      "name": "python"
    }
  },
  "cells": [
    {
      "cell_type": "code",
      "execution_count": null,
      "metadata": {
        "colab": {
          "base_uri": "https://localhost:8080/"
        },
        "id": "yzzl0megqE_n",
        "outputId": "fa59e9a1-eafd-43af-8767-d54fd2fc9f42"
      },
      "outputs": [
        {
          "output_type": "stream",
          "name": "stdout",
          "text": [
            "KartikNarolia\n"
          ]
        }
      ],
      "source": [
        "print('Kartik' 'Narolia')"
      ]
    },
    {
      "cell_type": "code",
      "source": [
        "a = 15\n",
        "b = 10\n",
        "\n",
        "if a > b:\n",
        "  print(\"Bigger\")\n",
        "else:\n",
        "  print(\"Smaller\")"
      ],
      "metadata": {
        "colab": {
          "base_uri": "https://localhost:8080/"
        },
        "id": "bH4-KEm0r1A_",
        "outputId": "2ee6fa47-66a7-4a33-b70a-adee45d0172d"
      },
      "execution_count": null,
      "outputs": [
        {
          "output_type": "stream",
          "name": "stdout",
          "text": [
            "Bigger\n"
          ]
        }
      ]
    },
    {
      "cell_type": "code",
      "source": [
        "a = 15\n",
        "b = 15\n",
        "\n",
        "if a > b:\n",
        "  print(\"Bigger\")\n",
        "elif a == b:\n",
        "  print(\"Equal\")\n",
        "else:\n",
        "  print(\"Smaller\")"
      ],
      "metadata": {
        "colab": {
          "base_uri": "https://localhost:8080/"
        },
        "id": "ePvAqnDkyiAi",
        "outputId": "78175e8b-c0c9-4c15-8f12-023b35dea600"
      },
      "execution_count": null,
      "outputs": [
        {
          "output_type": "stream",
          "name": "stdout",
          "text": [
            "Equal\n"
          ]
        }
      ]
    },
    {
      "cell_type": "code",
      "source": [
        "number = 15\n",
        "if (number % 5 == 0):\n",
        "  print(\"Divisible by 5\")\n",
        "else:\n",
        "  print(\"Not Divisible by 5\")"
      ],
      "metadata": {
        "colab": {
          "base_uri": "https://localhost:8080/"
        },
        "id": "DG6ic9U41891",
        "outputId": "1538e0d4-a1f1-4813-949a-6a0bff9ac446"
      },
      "execution_count": null,
      "outputs": [
        {
          "output_type": "stream",
          "name": "stdout",
          "text": [
            "Divisible by 5\n"
          ]
        }
      ]
    },
    {
      "cell_type": "code",
      "source": [
        "number = 35\n",
        "if (number % 5 == 0) and (number % 7 == 0):\n",
        "  print(\"Divisible by 5 and 7\")\n",
        "else:\n",
        "  print(\"Not Divisible by 5 and 7\")"
      ],
      "metadata": {
        "colab": {
          "base_uri": "https://localhost:8080/"
        },
        "id": "WAzLM-ST1-e2",
        "outputId": "74efc842-723b-4f1c-9c50-96d8aba25d94"
      },
      "execution_count": null,
      "outputs": [
        {
          "output_type": "stream",
          "name": "stdout",
          "text": [
            "Divisible by 5 and 7\n"
          ]
        }
      ]
    },
    {
      "cell_type": "code",
      "source": [
        "number = 35\n",
        "if (number % 5 == 0) and (number % 7 == 0) and (number % 13 !=0):\n",
        "  print(\"Divisible by 5 and 7 but not 13\")\n",
        "else:\n",
        "  print(\"Not Divisible by 5 and 7 but not 13\")"
      ],
      "metadata": {
        "colab": {
          "base_uri": "https://localhost:8080/"
        },
        "id": "vL1LT7FW2nkC",
        "outputId": "3bcf1ce2-a0a6-4334-927c-cfa73aa8dd34"
      },
      "execution_count": null,
      "outputs": [
        {
          "output_type": "stream",
          "name": "stdout",
          "text": [
            "Divisible by 5 and 7 but not 13\n"
          ]
        }
      ]
    },
    {
      "cell_type": "code",
      "source": [
        "number = 35\n",
        "if (number % 5 == 0):\n",
        "  if (number % 7 == 0):\n",
        "    print(\"Divisible by 5 and 7\")\n",
        "  else:\n",
        "    print(\"Divisible by 5 but not 7\")\n",
        "\n",
        "elif (number % 7 == 0):\n",
        "    print(\"Divisible by 7 not 5\")\n",
        "\n",
        "else:\n",
        "  print(\"Not Divisible by 5 and 7 either\")"
      ],
      "metadata": {
        "colab": {
          "base_uri": "https://localhost:8080/"
        },
        "id": "cJJIb8SR4cf6",
        "outputId": "10c01a45-7016-4483-f651-fcdb6bba65a7"
      },
      "execution_count": null,
      "outputs": [
        {
          "output_type": "stream",
          "name": "stdout",
          "text": [
            "Divisible by 5 and 7\n"
          ]
        }
      ]
    },
    {
      "cell_type": "code",
      "source": [],
      "metadata": {
        "id": "icDWeUb67OcQ"
      },
      "execution_count": null,
      "outputs": []
    }
  ]
}